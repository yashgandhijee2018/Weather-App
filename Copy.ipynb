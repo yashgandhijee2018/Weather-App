{
  "cells": [
    {
      "cell_type": "markdown",
      "metadata": {
        "id": "view-in-github",
        "colab_type": "text"
      },
      "source": [
        "<a href=\"https://colab.research.google.com/github/yashgandhijee2018/Weather-App/blob/master/Copy.ipynb\" target=\"_parent\"><img src=\"https://colab.research.google.com/assets/colab-badge.svg\" alt=\"Open In Colab\"/></a>"
      ]
    },
    {
      "cell_type": "markdown",
      "metadata": {
        "id": "gqlmUs-5iebR"
      },
      "source": [
        "# <center>CREDIT CARD FRAUD DETECTION USING MACHINE LEARNING METHODS</center>\n",
        "\n",
        " <p style=\"color:blue;\">Nils LEFEUVRE - March 2020</p>"
      ]
    },
    {
      "cell_type": "markdown",
      "metadata": {
        "id": "kJ_c1U5wiebV"
      },
      "source": [
        "![](https://www.howardbank.com/sites/default/files/HB-SecurityCenter-DebCredCardSecurity-WEB.jpg)"
      ]
    },
    {
      "cell_type": "markdown",
      "metadata": {
        "id": "E7pxDYf_iebW"
      },
      "source": [
        "## <center>Welcome on my notebook! </center>\n",
        "\n",
        "Today, our objective is to create the best classifier for credit car fraud detection. To do it, we'll compare classification models from different methods :\n",
        "* Logistic regression\n",
        "* Support Vector Machine\n",
        "* Bagging (Random Forest)\n",
        "* Boosting (XGBoost)\n",
        "* Neural Network (tensorflow/keras)\n",
        "\n",
        "The datasets contains transactions made by credit cards in September 2013 by european cardholders.\n",
        "This dataset presents transactions that occurred in two days, where we have 492 frauds out of 284,807 transactions. The dataset is highly unbalanced, the positive class (frauds) account for 0.172% of all transactions. I decided to proceed to an undersampling strategy to re-balance the class.\n",
        "\n",
        "It contains only numerical input variables which are the result of a PCA transformation. Unfortunately, due to confidentiality issues, we cannot provide the original features and more background information about the data.\n",
        "\n",
        "Here are some other notebooks that helped me build this one :\n",
        "- https://www.kaggle.com/jdelamorena/recall-97-by-using-undersampling-neural-network\n",
        "- https://www.kaggle.com/marbatlle/fraud-prediction-undersampling-and-svm\n",
        "\n",
        "If you found this notebook helpful or you just liked it , some upvotes would be very appreciated !"
      ]
    },
    {
      "cell_type": "markdown",
      "metadata": {
        "id": "5vOIYSK-iebX"
      },
      "source": [
        "### Importing packages and data"
      ]
    },
    {
      "cell_type": "code",
      "execution_count": null,
      "metadata": {
        "_cell_guid": "b1076dfc-b9ad-4769-8c92-a6c4dae69d19",
        "_uuid": "8f2839f25d086af736a60e9eeb907d3b93b6e0e5",
        "id": "m5JbsqptiebX"
      },
      "outputs": [],
      "source": [
        "#importing packages\n",
        "import numpy as np\n",
        "import pandas as pd\n",
        "import matplotlib.pyplot as plt\n",
        "import seaborn as sns\n",
        "import warnings\n",
        "warnings.filterwarnings(\"ignore\")"
      ]
    },
    {
      "cell_type": "code",
      "execution_count": null,
      "metadata": {
        "id": "IdP_1yYmiebY",
        "outputId": "e282672c-523b-4de1-d938-f9773dde7f32"
      },
      "outputs": [
        {
          "data": {
            "text/html": [
              "<div>\n",
              "<style scoped>\n",
              "    .dataframe tbody tr th:only-of-type {\n",
              "        vertical-align: middle;\n",
              "    }\n",
              "\n",
              "    .dataframe tbody tr th {\n",
              "        vertical-align: top;\n",
              "    }\n",
              "\n",
              "    .dataframe thead th {\n",
              "        text-align: right;\n",
              "    }\n",
              "</style>\n",
              "<table border=\"1\" class=\"dataframe\">\n",
              "  <thead>\n",
              "    <tr style=\"text-align: right;\">\n",
              "      <th></th>\n",
              "      <th>Time</th>\n",
              "      <th>V1</th>\n",
              "      <th>V2</th>\n",
              "      <th>V3</th>\n",
              "      <th>V4</th>\n",
              "      <th>V5</th>\n",
              "      <th>V6</th>\n",
              "      <th>V7</th>\n",
              "      <th>V8</th>\n",
              "      <th>V9</th>\n",
              "      <th>...</th>\n",
              "      <th>V21</th>\n",
              "      <th>V22</th>\n",
              "      <th>V23</th>\n",
              "      <th>V24</th>\n",
              "      <th>V25</th>\n",
              "      <th>V26</th>\n",
              "      <th>V27</th>\n",
              "      <th>V28</th>\n",
              "      <th>Amount</th>\n",
              "      <th>Class</th>\n",
              "    </tr>\n",
              "  </thead>\n",
              "  <tbody>\n",
              "    <tr>\n",
              "      <th>0</th>\n",
              "      <td>0.0</td>\n",
              "      <td>-1.359807</td>\n",
              "      <td>-0.072781</td>\n",
              "      <td>2.536347</td>\n",
              "      <td>1.378155</td>\n",
              "      <td>-0.338321</td>\n",
              "      <td>0.462388</td>\n",
              "      <td>0.239599</td>\n",
              "      <td>0.098698</td>\n",
              "      <td>0.363787</td>\n",
              "      <td>...</td>\n",
              "      <td>-0.018307</td>\n",
              "      <td>0.277838</td>\n",
              "      <td>-0.110474</td>\n",
              "      <td>0.066928</td>\n",
              "      <td>0.128539</td>\n",
              "      <td>-0.189115</td>\n",
              "      <td>0.133558</td>\n",
              "      <td>-0.021053</td>\n",
              "      <td>149.62</td>\n",
              "      <td>0</td>\n",
              "    </tr>\n",
              "    <tr>\n",
              "      <th>1</th>\n",
              "      <td>0.0</td>\n",
              "      <td>1.191857</td>\n",
              "      <td>0.266151</td>\n",
              "      <td>0.166480</td>\n",
              "      <td>0.448154</td>\n",
              "      <td>0.060018</td>\n",
              "      <td>-0.082361</td>\n",
              "      <td>-0.078803</td>\n",
              "      <td>0.085102</td>\n",
              "      <td>-0.255425</td>\n",
              "      <td>...</td>\n",
              "      <td>-0.225775</td>\n",
              "      <td>-0.638672</td>\n",
              "      <td>0.101288</td>\n",
              "      <td>-0.339846</td>\n",
              "      <td>0.167170</td>\n",
              "      <td>0.125895</td>\n",
              "      <td>-0.008983</td>\n",
              "      <td>0.014724</td>\n",
              "      <td>2.69</td>\n",
              "      <td>0</td>\n",
              "    </tr>\n",
              "    <tr>\n",
              "      <th>2</th>\n",
              "      <td>1.0</td>\n",
              "      <td>-1.358354</td>\n",
              "      <td>-1.340163</td>\n",
              "      <td>1.773209</td>\n",
              "      <td>0.379780</td>\n",
              "      <td>-0.503198</td>\n",
              "      <td>1.800499</td>\n",
              "      <td>0.791461</td>\n",
              "      <td>0.247676</td>\n",
              "      <td>-1.514654</td>\n",
              "      <td>...</td>\n",
              "      <td>0.247998</td>\n",
              "      <td>0.771679</td>\n",
              "      <td>0.909412</td>\n",
              "      <td>-0.689281</td>\n",
              "      <td>-0.327642</td>\n",
              "      <td>-0.139097</td>\n",
              "      <td>-0.055353</td>\n",
              "      <td>-0.059752</td>\n",
              "      <td>378.66</td>\n",
              "      <td>0</td>\n",
              "    </tr>\n",
              "    <tr>\n",
              "      <th>3</th>\n",
              "      <td>1.0</td>\n",
              "      <td>-0.966272</td>\n",
              "      <td>-0.185226</td>\n",
              "      <td>1.792993</td>\n",
              "      <td>-0.863291</td>\n",
              "      <td>-0.010309</td>\n",
              "      <td>1.247203</td>\n",
              "      <td>0.237609</td>\n",
              "      <td>0.377436</td>\n",
              "      <td>-1.387024</td>\n",
              "      <td>...</td>\n",
              "      <td>-0.108300</td>\n",
              "      <td>0.005274</td>\n",
              "      <td>-0.190321</td>\n",
              "      <td>-1.175575</td>\n",
              "      <td>0.647376</td>\n",
              "      <td>-0.221929</td>\n",
              "      <td>0.062723</td>\n",
              "      <td>0.061458</td>\n",
              "      <td>123.50</td>\n",
              "      <td>0</td>\n",
              "    </tr>\n",
              "    <tr>\n",
              "      <th>4</th>\n",
              "      <td>2.0</td>\n",
              "      <td>-1.158233</td>\n",
              "      <td>0.877737</td>\n",
              "      <td>1.548718</td>\n",
              "      <td>0.403034</td>\n",
              "      <td>-0.407193</td>\n",
              "      <td>0.095921</td>\n",
              "      <td>0.592941</td>\n",
              "      <td>-0.270533</td>\n",
              "      <td>0.817739</td>\n",
              "      <td>...</td>\n",
              "      <td>-0.009431</td>\n",
              "      <td>0.798278</td>\n",
              "      <td>-0.137458</td>\n",
              "      <td>0.141267</td>\n",
              "      <td>-0.206010</td>\n",
              "      <td>0.502292</td>\n",
              "      <td>0.219422</td>\n",
              "      <td>0.215153</td>\n",
              "      <td>69.99</td>\n",
              "      <td>0</td>\n",
              "    </tr>\n",
              "  </tbody>\n",
              "</table>\n",
              "<p>5 rows × 31 columns</p>\n",
              "</div>"
            ],
            "text/plain": [
              "   Time        V1        V2        V3        V4        V5        V6        V7  \\\n",
              "0   0.0 -1.359807 -0.072781  2.536347  1.378155 -0.338321  0.462388  0.239599   \n",
              "1   0.0  1.191857  0.266151  0.166480  0.448154  0.060018 -0.082361 -0.078803   \n",
              "2   1.0 -1.358354 -1.340163  1.773209  0.379780 -0.503198  1.800499  0.791461   \n",
              "3   1.0 -0.966272 -0.185226  1.792993 -0.863291 -0.010309  1.247203  0.237609   \n",
              "4   2.0 -1.158233  0.877737  1.548718  0.403034 -0.407193  0.095921  0.592941   \n",
              "\n",
              "         V8        V9  ...       V21       V22       V23       V24       V25  \\\n",
              "0  0.098698  0.363787  ... -0.018307  0.277838 -0.110474  0.066928  0.128539   \n",
              "1  0.085102 -0.255425  ... -0.225775 -0.638672  0.101288 -0.339846  0.167170   \n",
              "2  0.247676 -1.514654  ...  0.247998  0.771679  0.909412 -0.689281 -0.327642   \n",
              "3  0.377436 -1.387024  ... -0.108300  0.005274 -0.190321 -1.175575  0.647376   \n",
              "4 -0.270533  0.817739  ... -0.009431  0.798278 -0.137458  0.141267 -0.206010   \n",
              "\n",
              "        V26       V27       V28  Amount  Class  \n",
              "0 -0.189115  0.133558 -0.021053  149.62      0  \n",
              "1  0.125895 -0.008983  0.014724    2.69      0  \n",
              "2 -0.139097 -0.055353 -0.059752  378.66      0  \n",
              "3 -0.221929  0.062723  0.061458  123.50      0  \n",
              "4  0.502292  0.219422  0.215153   69.99      0  \n",
              "\n",
              "[5 rows x 31 columns]"
            ]
          },
          "execution_count": 2,
          "metadata": {},
          "output_type": "execute_result"
        }
      ],
      "source": [
        "#importing data from kaggle\n",
        "df = pd.read_csv(\"/Users/rigzenbodh/Downloads/creditcard 2.csv\")\n",
        "df.head(5)"
      ]
    },
    {
      "cell_type": "markdown",
      "metadata": {
        "id": "gDloFw6vieba"
      },
      "source": [
        "### Data processing and undersampling"
      ]
    },
    {
      "cell_type": "markdown",
      "metadata": {
        "id": "zaniECpBieba"
      },
      "source": [
        "Time is not needed for classification so I simply remove the feature from the dataset :"
      ]
    },
    {
      "cell_type": "code",
      "execution_count": null,
      "metadata": {
        "id": "wZ7lSWYsiebb"
      },
      "outputs": [],
      "source": [
        "df = df.drop(\"Time\", axis=1)"
      ]
    },
    {
      "cell_type": "markdown",
      "metadata": {
        "id": "lk_3Onp_iebc"
      },
      "source": [
        "We need to standardize the 'Amount' feature before modelling. \n",
        "For that, we use the StandardScaler function from sklearn. Then, we just have to drop the old feature :"
      ]
    },
    {
      "cell_type": "code",
      "execution_count": null,
      "metadata": {
        "id": "sWHLguqbiebc"
      },
      "outputs": [],
      "source": [
        "from sklearn import preprocessing\n",
        "scaler = preprocessing.StandardScaler()"
      ]
    },
    {
      "cell_type": "code",
      "execution_count": null,
      "metadata": {
        "id": "G7A-ZGcriebc"
      },
      "outputs": [],
      "source": [
        "#standard scaling\n",
        "df['std_Amount'] = scaler.fit_transform(df['Amount'].values.reshape (-1,1))\n",
        "\n",
        "#removing Amount\n",
        "df = df.drop(\"Amount\", axis=1)"
      ]
    },
    {
      "cell_type": "markdown",
      "metadata": {
        "id": "PhjpXdPIiebd"
      },
      "source": [
        "Now, let's have a look at the class :"
      ]
    },
    {
      "cell_type": "code",
      "execution_count": null,
      "metadata": {
        "id": "IT5qu3Saiebd",
        "outputId": "b8ee0ade-607d-492b-986e-d19f79c4911b"
      },
      "outputs": [
        {
          "data": {
            "text/plain": [
              "<AxesSubplot:xlabel='Class', ylabel='count'>"
            ]
          },
          "execution_count": 6,
          "metadata": {},
          "output_type": "execute_result"
        },
        {
          "data": {
            "image/png": "[encoded data removed]",
            "text/plain": [
              "<Figure size 432x288 with 1 Axes>"
            ]
          },
          "metadata": {
            "needs_background": "light"
          },
          "output_type": "display_data"
        }
      ],
      "source": [
        "sns.countplot(x=\"Class\", data=df)"
      ]
    },
    {
      "cell_type": "markdown",
      "metadata": {
        "id": "LFu7-jBdiebe"
      },
      "source": [
        "The dataset is highly imbalanced ! \n",
        "It's a big problem because classifiers will always predict the most common class without performing any analysis of the features and it will have a high accuracy rate, obviously not the correct one. To change that, I will proceed to random undersampling.  \n",
        "\n",
        "The simplest undersampling technique involves randomly selecting examples from the majority class and deleting them from the training dataset. This is referred to as random undersampling.\n",
        "\n",
        "Although simple and effective, a limitation of this technique is that examples are removed without any concern for how useful or important they might be in determining the decision boundary between the classes. This means it is possible, or even likely, that useful information will be deleted.\n",
        "\n",
        "### <center>How undersampling works :</center>\n",
        "<center><img src= \"https://miro.medium.com/max/335/1*YH_vPYQEDIW0JoUYMeLz_A.png\">\n",
        "\n",
        "\n",
        "\n",
        "To undersample, we can use the package imblearn with RandomUnderSampler function !"
      ]
    },
    {
      "cell_type": "code",
      "execution_count": null,
      "metadata": {
        "id": "2uQxADVOiebe"
      },
      "outputs": [],
      "source": [
        "import imblearn\n",
        "from imblearn.over_sampling import RandomOverSampler \n",
        "\n",
        "oversample = RandomOverSampler(sampling_strategy='minority')"
      ]
    },
    {
      "cell_type": "code",
      "execution_count": null,
      "metadata": {
        "id": "POK7uMpTiebf"
      },
      "outputs": [],
      "source": [
        "cols = df.columns.tolist()\n",
        "cols = [c for c in cols if c not in [\"Class\"]]\n",
        "target = \"Class\""
      ]
    },
    {
      "cell_type": "code",
      "execution_count": null,
      "metadata": {
        "id": "5fizZIPIiebf"
      },
      "outputs": [],
      "source": [
        "#define X and Y\n",
        "X = df[cols]\n",
        "Y = df[target]\n",
        "\n",
        "#undersample\n",
        "X_over, Y_over = oversample.fit_resample(X, Y)"
      ]
    },
    {
      "cell_type": "code",
      "execution_count": null,
      "metadata": {
        "id": "61zdKGJWiebf"
      },
      "outputs": [],
      "source": [
        "from pandas import DataFrame\n",
        "test = pd.DataFrame(Y_over, columns = ['Class'])"
      ]
    },
    {
      "cell_type": "code",
      "execution_count": null,
      "metadata": {
        "id": "9yhidWCxiebg",
        "outputId": "3217f919-d79e-43d2-837b-1d282cdb3b3e"
      },
      "outputs": [
        {
          "data": {
            "text/plain": [
              "Text(0.5, 1.0, 'After')"
            ]
          },
          "execution_count": 11,
          "metadata": {},
          "output_type": "execute_result"
        },
        {
          "data": {
            "image/png": "[encoded data removed]",
            "text/plain": [
              "<Figure size 936x324 with 2 Axes>"
            ]
          },
          "metadata": {
            "needs_background": "light"
          },
          "output_type": "display_data"
        }
      ],
      "source": [
        "#visualizing undersampling results\n",
        "fig, axs = plt.subplots(ncols=2, figsize=(13,4.5))\n",
        "sns.countplot(x=\"Class\", data=df, ax=axs[0])\n",
        "sns.countplot(x=\"Class\", data=test, ax=axs[1])\n",
        "\n",
        "fig.suptitle(\"Class repartition before and after undersampling\")\n",
        "a1=fig.axes[0]\n",
        "a1.set_title(\"Before\")\n",
        "a2=fig.axes[1]\n",
        "a2.set_title(\"After\")"
      ]
    },
    {
      "cell_type": "code",
      "execution_count": null,
      "metadata": {
        "id": "w3kv_qTXiebg",
        "outputId": "af72dfff-d89c-4880-ec1c-d42ba226e560"
      },
      "outputs": [
        {
          "name": "stdout",
          "output_type": "stream",
          "text": [
            "RandomOverSampler, counts of label '1', %: 50.0\n",
            "RandomOverSampler, counts of label '0', %: 50.0\n"
          ]
        }
      ],
      "source": [
        "print(\"RandomOverSampler, counts of label '1', %: {:.1f}\".format(sum(Y_over==1)/len(Y_over)*100.0,2))\n",
        "print(\"RandomOverSampler, counts of label '0', %: {:.1f}\".format(sum(Y_over==0)/len(Y_over)*100.0,2))"
      ]
    },
    {
      "cell_type": "markdown",
      "metadata": {
        "id": "q90tLLxViebh"
      },
      "source": [
        "Great ! Our dataset is now perfectly balanced !\n",
        "\n",
        "The last step before modelling is now to split the data intro train and test samples. The test set will be composed of 20% of the data.\n",
        "\n",
        "We will use the train dataset to train our models and then evaluate them of the test set : \n",
        "<center><img src= \"https://data-flair.training/blogs/wp-content/uploads/sites/2/2018/08/1-16.png\">\n",
        "\n",
        "To split the data, we can use train_test_split function from sklearn !"
      ]
    },
    {
      "cell_type": "code",
      "execution_count": null,
      "metadata": {
        "id": "31VkL-dDiebh"
      },
      "outputs": [],
      "source": [
        "from sklearn.model_selection import train_test_split\n",
        "\n",
        "X_train, X_test, y_train, y_test = train_test_split(X_over, Y_over, test_size=0.2, random_state=1)"
      ]
    },
    {
      "cell_type": "markdown",
      "metadata": {
        "id": "yQRHqHMriebh"
      },
      "source": [
        "Now we are ready for modeling ! Let's try to predict credit card frauds with different models. "
      ]
    },
    {
      "cell_type": "code",
      "execution_count": null,
      "metadata": {
        "id": "eAcyLHofiebh"
      },
      "outputs": [],
      "source": [
        "#importing packages for modeling\n",
        "from sklearn.linear_model import LogisticRegression\n",
        "from sklearn.svm import SVC\n",
        "from sklearn.ensemble import RandomForestClassifier\n",
        "from xgboost import XGBClassifier\n",
        "from sklearn.neural_network import MLPClassifier\n",
        "\n",
        "import tensorflow as tf\n",
        "from tensorflow import keras\n",
        "from tensorflow.keras import layers\n",
        "from keras.layers import Dropout\n",
        "from keras.models import Sequential\n",
        "from keras.layers import Dense\n",
        "from keras.layers import BatchNormalization\n",
        "\n",
        "from sklearn import metrics\n",
        "from sklearn.metrics import confusion_matrix\n",
        "from sklearn.metrics import roc_curve\n",
        "from sklearn.metrics import roc_auc_score\n",
        "from sklearn.metrics import auc\n",
        "from sklearn.metrics import precision_recall_curve"
      ]
    },
    {
      "cell_type": "markdown",
      "metadata": {
        "id": "3LLNpe2iiebi"
      },
      "source": [
        "# 1. Logistic Regression"
      ]
    },
    {
      "cell_type": "markdown",
      "metadata": {
        "id": "2C-jXr57iebi"
      },
      "source": [
        "### <center> How Logistic regression works :\n",
        "\n",
        "<center><img src= \"https://saedsayad.com/images/LogReg_1.png\">\n",
        "\n",
        "In Logistic Regression, input values (X) are combined linearly using weights or coefficient values to predict an output value (y). \n",
        "A key difference from linear regression is that the output value being modeled is a binary values (0 or 1) rather than a numeric value. Logistic regression is a linear method, but the predictions are transformed using the logistic function."
      ]
    },
    {
      "cell_type": "code",
      "execution_count": null,
      "metadata": {
        "id": "z9gDLEk4iebi"
      },
      "outputs": [],
      "source": [
        "#train the model\n",
        "model1 = LogisticRegression(random_state=2)\n",
        "logit = model1.fit(X_train, y_train)"
      ]
    },
    {
      "cell_type": "code",
      "execution_count": null,
      "metadata": {
        "id": "Its_gqxDiebi"
      },
      "outputs": [],
      "source": [
        "#predictions\n",
        "y_pred_logit = model1.predict(X_test) "
      ]
    },
    {
      "cell_type": "code",
      "execution_count": null,
      "metadata": {
        "id": "4bARPd6giebj",
        "outputId": "25c28b36-514b-46d5-8e38-bda4bbb7290f"
      },
      "outputs": [
        {
          "name": "stdout",
          "output_type": "stream",
          "text": [
            "Accuracy Logit: 0.9500114309832404\n",
            "Precision Logit: 0.9756388066923493\n",
            "Recall Logit: 0.9229577464788732\n",
            "F1 Score Logit: 0.948567396162232\n"
          ]
        }
      ],
      "source": [
        "#scores\n",
        "print(\"Accuracy Logit:\",metrics.accuracy_score(y_test, y_pred_logit))\n",
        "print(\"Precision Logit:\",metrics.precision_score(y_test, y_pred_logit))\n",
        "print(\"Recall Logit:\",metrics.recall_score(y_test, y_pred_logit))\n",
        "print(\"F1 Score Logit:\",metrics.f1_score(y_test, y_pred_logit))"
      ]
    },
    {
      "cell_type": "code",
      "execution_count": null,
      "metadata": {
        "id": "Mhdc14GEiebj",
        "outputId": "b0b0df95-d207-4123-868d-6c8e20ebb1af"
      },
      "outputs": [
        {
          "data": {
            "image/png": "[encoded data removed]",
            "text/plain": [
              "<Figure size 432x288 with 1 Axes>"
            ]
          },
          "metadata": {
            "needs_background": "light"
          },
          "output_type": "display_data"
        }
      ],
      "source": [
        "#print CM\n",
        "matrix_logit = confusion_matrix(y_test, y_pred_logit)\n",
        "cm_logit = pd.DataFrame(matrix_logit, index=['not_fraud', 'fraud'], columns=['not_fraud', 'fraud'])\n",
        "\n",
        "sns.heatmap(cm_logit, annot=True, cbar=None, cmap=\"Blues\", fmt = 'g')\n",
        "plt.title(\"Confusion Matrix Logit\"), plt.tight_layout()\n",
        "plt.ylabel(\"True Class\"), plt.xlabel(\"Predicted Class\")\n",
        "plt.show()"
      ]
    },
    {
      "cell_type": "code",
      "execution_count": null,
      "metadata": {
        "id": "qZFMTV2yiebk",
        "outputId": "2891df73-b742-452a-8a78-ed670ca020bd"
      },
      "outputs": [
        {
          "name": "stdout",
          "output_type": "stream",
          "text": [
            "AUC Logistic Regression : 0.9870260297158704\n"
          ]
        }
      ],
      "source": [
        "#AUC\n",
        "y_pred_logit_proba = model1.predict_proba(X_test)[::,1]\n",
        "fpr_logit, tpr_logit, _ = metrics.roc_curve(y_test,  y_pred_logit_proba)\n",
        "auc_logit = metrics.roc_auc_score(y_test, y_pred_logit_proba)\n",
        "print(\"AUC Logistic Regression :\", auc_logit)"
      ]
    },
    {
      "cell_type": "code",
      "execution_count": null,
      "metadata": {
        "id": "YRAaM67kiebl",
        "outputId": "e2869ff9-ff76-4d74-9bd1-75f5aab1c09f"
      },
      "outputs": [
        {
          "data": {
            "image/png": "[encoded data removed]",
            "text/plain": [
              "<Figure size 432x288 with 1 Axes>"
            ]
          },
          "metadata": {
            "needs_background": "light"
          },
          "output_type": "display_data"
        }
      ],
      "source": [
        "#ROC\n",
        "plt.plot(fpr_logit,tpr_logit,label=\"Logistic Regression, auc={:.3f})\".format(auc_logit))\n",
        "plt.plot([0, 1], [0, 1], 'k--')\n",
        "plt.xlabel('False positive rate')\n",
        "plt.ylabel('True positive rate')\n",
        "plt.title('Logistic Regression ROC curve')\n",
        "plt.legend(loc=4)\n",
        "plt.show()"
      ]
    },
    {
      "cell_type": "code",
      "execution_count": null,
      "metadata": {
        "id": "luuULQofiebl",
        "outputId": "f7ec4af8-29ac-491e-e837-6ef75788d225"
      },
      "outputs": [
        {
          "data": {
            "image/png": "[encoded data removed]",
            "text/plain": [
              "<Figure size 432x288 with 1 Axes>"
            ]
          },
          "metadata": {
            "needs_background": "light"
          },
          "output_type": "display_data"
        }
      ],
      "source": [
        "logit_precision, logit_recall, _ = precision_recall_curve(y_test, y_pred_logit_proba)\n",
        "no_skill = len(y_test[y_test==1]) / len(y_test)\n",
        "plt.plot([0, 1], [no_skill, no_skill], linestyle='--', color='black', label='No Skill')\n",
        "plt.plot(logit_recall, logit_precision, color='orange', label='Logistic')\n",
        "plt.xlabel('Recall')\n",
        "plt.ylabel('Precision')\n",
        "plt.title('Precision-Recall curve')\n",
        "plt.legend()\n",
        "plt.show()"
      ]
    },
    {
      "cell_type": "markdown",
      "metadata": {
        "id": "xEZmdSn5iebl"
      },
      "source": [
        "Classification metrics for Logistic Regression (rounded down) :\n",
        "- Accuracy : 0.94\n",
        "- F1 score : 0.92\n",
        "- AUC : 0.96"
      ]
    },
    {
      "cell_type": "markdown",
      "metadata": {
        "id": "4jeRW3Pciebl"
      },
      "source": [
        "# 2. Support Vector Machine"
      ]
    },
    {
      "cell_type": "markdown",
      "metadata": {
        "id": "NN7AYXsPiebm"
      },
      "source": [
        "### <center> How SVM works : </center>\n",
        "\n",
        "<center><img src= \"https://vitalflux.com/wp-content/uploads/2020/07/Screenshot-2020-07-07-at-3.44.38-PM.png\">\n",
        "\n",
        "SVM Classifier uses a technique called the kernel trick to transform the data and then based on these transformations it finds an optimal boundary (hyper-plane) between the possible outputs.\n",
        "Support vector machines focus only on the points that are the most difficult to tell apart, whereas other classifiers pay attention to all of the points."
      ]
    },
    {
      "cell_type": "code",
      "execution_count": null,
      "metadata": {
        "id": "A6c4SoMWiebm"
      },
      "outputs": [],
      "source": [
        "#train the model\n",
        "model2 = SVC(probability=True, random_state=2)\n",
        "svm = model2.fit(X_train, y_train)"
      ]
    },
    {
      "cell_type": "code",
      "execution_count": null,
      "metadata": {
        "id": "oLJ7IVjsiebm"
      },
      "outputs": [],
      "source": [
        "#predictions\n",
        "y_pred_svm = model2.predict(X_test)"
      ]
    },
    {
      "cell_type": "code",
      "execution_count": null,
      "metadata": {
        "id": "lwHyyL8hiebm",
        "outputId": "64066ed1-19b7-4548-8a59-d3d9fbf57f3e"
      },
      "outputs": [
        {
          "name": "stdout",
          "output_type": "stream",
          "text": [
            "Accuracy SVM: 0.9425675675675675\n",
            "Precision SVM: 0.9789473684210527\n",
            "Recall SVM: 0.8611111111111112\n",
            "F1 Score SVM: 0.9162561576354681\n"
          ]
        }
      ],
      "source": [
        "#scores\n",
        "print(\"Accuracy SVM:\",metrics.accuracy_score(y_test, y_pred_svm))\n",
        "print(\"Precision SVM:\",metrics.precision_score(y_test, y_pred_svm))\n",
        "print(\"Recall SVM:\",metrics.recall_score(y_test, y_pred_svm))\n",
        "print(\"F1 Score SVM:\",metrics.f1_score(y_test, y_pred_svm))"
      ]
    },
    {
      "cell_type": "code",
      "execution_count": null,
      "metadata": {
        "id": "qic1AUC1iebn",
        "outputId": "232fdc44-0d2b-4409-9135-816c5846f036"
      },
      "outputs": [
        {
          "data": {
            "image/png": "[encoded data removed]",
            "text/plain": [
              "<Figure size 432x288 with 1 Axes>"
            ]
          },
          "metadata": {
            "needs_background": "light"
          },
          "output_type": "display_data"
        }
      ],
      "source": [
        "#CM matrix\n",
        "matrix_svm = confusion_matrix(y_test, y_pred_svm)\n",
        "cm_svm = pd.DataFrame(matrix_svm, index=['not_fraud', 'fraud'], columns=['not_fraud', 'fraud'])\n",
        "\n",
        "sns.heatmap(cm_svm, annot=True, cbar=None, cmap=\"Blues\", fmt = 'g')\n",
        "plt.title(\"Confusion Matrix SVM\"), plt.tight_layout()\n",
        "plt.ylabel(\"True Class\"), plt.xlabel(\"Predicted Class\")\n",
        "plt.show()"
      ]
    },
    {
      "cell_type": "code",
      "execution_count": null,
      "metadata": {
        "id": "nhe9Ngojiebn",
        "outputId": "5c48d869-7a07-4a28-c67c-5462c0493c34"
      },
      "outputs": [
        {
          "name": "stdout",
          "output_type": "stream",
          "text": [
            "AUC SVM : 0.9758175728920409\n"
          ]
        }
      ],
      "source": [
        "#AUC\n",
        "y_pred_svm_proba = model2.predict_proba(X_test)[::,1]\n",
        "fpr_svm, tpr_svm, _ = metrics.roc_curve(y_test,  y_pred_svm_proba)\n",
        "auc_svm = metrics.roc_auc_score(y_test, y_pred_svm_proba)\n",
        "print(\"AUC SVM :\", auc_svm)"
      ]
    },
    {
      "cell_type": "code",
      "execution_count": null,
      "metadata": {
        "id": "DNdStuphiebn",
        "outputId": "cc24a5b4-a28b-47fa-ff7d-9727e83eefc6"
      },
      "outputs": [
        {
          "data": {
            "image/png": "[encoded data removed]",
            "text/plain": [
              "<Figure size 432x288 with 1 Axes>"
            ]
          },
          "metadata": {
            "needs_background": "light"
          },
          "output_type": "display_data"
        }
      ],
      "source": [
        "#ROC\n",
        "plt.plot(fpr_svm,tpr_svm,label=\"SVM, auc={:.3f})\".format(auc_svm))\n",
        "plt.plot([0, 1], [0, 1], 'k--')\n",
        "plt.xlabel('False positive rate')\n",
        "plt.ylabel('True positive rate')\n",
        "plt.title('SVM ROC curve')\n",
        "plt.legend(loc=4)\n",
        "plt.show()"
      ]
    },
    {
      "cell_type": "code",
      "execution_count": null,
      "metadata": {
        "id": "U9VYBWiMiebn",
        "outputId": "c3538e60-8737-4dd6-e792-931f9abfee88"
      },
      "outputs": [
        {
          "data": {
            "image/png": "[encoded data removed]",
            "text/plain": [
              "<Figure size 432x288 with 1 Axes>"
            ]
          },
          "metadata": {
            "needs_background": "light"
          },
          "output_type": "display_data"
        }
      ],
      "source": [
        "svm_precision, svm_recall, _ = precision_recall_curve(y_test, y_pred_svm_proba)\n",
        "no_skill = len(y_test[y_test==1]) / len(y_test)\n",
        "plt.plot([0, 1], [no_skill, no_skill], linestyle='--', color='black', label='No Skill')\n",
        "plt.plot(svm_recall, svm_precision, color='orange', label='SVM')\n",
        "plt.xlabel('Recall')\n",
        "plt.ylabel('Precision')\n",
        "plt.title('Precision-Recall curve')\n",
        "plt.legend()\n",
        "plt.show()"
      ]
    },
    {
      "cell_type": "markdown",
      "metadata": {
        "id": "78Dc3ZHuiebo"
      },
      "source": [
        "Classification metrics for SVM (rounded down) :\n",
        "- Accuracy : 0.94\n",
        "- F1 score : 0.92\n",
        "- AUC : 0.97"
      ]
    },
    {
      "cell_type": "markdown",
      "metadata": {
        "id": "3b-8AoQkiebo"
      },
      "source": [
        "# 3. Ensemble learning : Bagging (Random Forest)"
      ]
    },
    {
      "cell_type": "markdown",
      "metadata": {
        "id": "RagB1Fe4iebo"
      },
      "source": [
        "### <center> How Random Forest works : </center>\n",
        "\n",
        "<center><img src= \"https://miro.medium.com/max/567/1*Mb8awDiY9T6rsOjtNTRcIg.png\">\n",
        "\n",
        "<center>\"A large number of relatively uncorrelated models (trees) operating as a committee will outperform any of the individual constituent models\"</center>\n",
        "\n",
        "Random forest consists of a large number of individual decision trees that operate as an ensemble. Each individual tree in the random forest spits out a class prediction and the class with the most votes becomes our model’s prediction."
      ]
    },
    {
      "cell_type": "code",
      "execution_count": null,
      "metadata": {
        "id": "C8mvvTs0iebo"
      },
      "outputs": [],
      "source": [
        "#train the model\n",
        "model3 = RandomForestClassifier(random_state=2)\n",
        "rf = model3.fit(X_train, y_train)"
      ]
    },
    {
      "cell_type": "code",
      "execution_count": null,
      "metadata": {
        "id": "RWBFMORWiebp"
      },
      "outputs": [],
      "source": [
        "#predictions\n",
        "y_pred_rf = model3.predict(X_test)"
      ]
    },
    {
      "cell_type": "code",
      "execution_count": null,
      "metadata": {
        "id": "8QiwKgWhiebp",
        "outputId": "259b395b-b0ad-4713-bcaf-89e09298a8bf"
      },
      "outputs": [
        {
          "name": "stdout",
          "output_type": "stream",
          "text": [
            "Accuracy RF: 0.9425675675675675\n",
            "Precision RF: 0.9690721649484536\n",
            "Recall RF: 0.8703703703703703\n",
            "F1 Score RF: 0.9170731707317072\n"
          ]
        }
      ],
      "source": [
        "#scores\n",
        "print(\"Accuracy RF:\",metrics.accuracy_score(y_test, y_pred_rf))\n",
        "print(\"Precision RF:\",metrics.precision_score(y_test, y_pred_rf))\n",
        "print(\"Recall RF:\",metrics.recall_score(y_test, y_pred_rf))\n",
        "print(\"F1 Score RF:\",metrics.f1_score(y_test, y_pred_rf))"
      ]
    },
    {
      "cell_type": "code",
      "execution_count": null,
      "metadata": {
        "id": "pyBNCDBuiebp",
        "outputId": "8cd4a6ac-c7c6-4144-8a41-e214b82245af"
      },
      "outputs": [
        {
          "data": {
            "image/png": "[encoded data removed]",
            "text/plain": [
              "<Figure size 432x288 with 1 Axes>"
            ]
          },
          "metadata": {
            "needs_background": "light"
          },
          "output_type": "display_data"
        }
      ],
      "source": [
        "#CM matrix\n",
        "matrix_rf = confusion_matrix(y_test, y_pred_rf)\n",
        "cm_rf = pd.DataFrame(matrix_rf, index=['not_fraud', 'fraud'], columns=['not_fraud', 'fraud'])\n",
        "\n",
        "sns.heatmap(cm_rf, annot=True, cbar=None, cmap=\"Blues\", fmt = 'g')\n",
        "plt.title(\"Confusion Matrix RF\"), plt.tight_layout()\n",
        "plt.ylabel(\"True Class\"), plt.xlabel(\"Predicted Class\")\n",
        "plt.show()"
      ]
    },
    {
      "cell_type": "code",
      "execution_count": null,
      "metadata": {
        "id": "7O9MmyeBiebp",
        "outputId": "26702ec7-af36-4b26-85ce-d34b5a773c74"
      },
      "outputs": [
        {
          "name": "stdout",
          "output_type": "stream",
          "text": [
            "AUC Random Forest : 0.969144011032309\n"
          ]
        }
      ],
      "source": [
        "#AUC\n",
        "y_pred_rf_proba = model3.predict_proba(X_test)[::,1]\n",
        "fpr_rf, tpr_rf, _ = metrics.roc_curve(y_test,  y_pred_rf_proba)\n",
        "auc_rf = metrics.roc_auc_score(y_test, y_pred_rf_proba)\n",
        "print(\"AUC Random Forest :\", auc_rf)"
      ]
    },
    {
      "cell_type": "code",
      "execution_count": null,
      "metadata": {
        "id": "jKsW1Lbziebq",
        "outputId": "b7742dc1-99c0-49e6-fc8b-4bcfe888963c"
      },
      "outputs": [
        {
          "data": {
            "image/png": "[encoded data removed]",
            "text/plain": [
              "<Figure size 432x288 with 1 Axes>"
            ]
          },
          "metadata": {
            "needs_background": "light"
          },
          "output_type": "display_data"
        }
      ],
      "source": [
        "#ROC\n",
        "plt.plot(fpr_rf,tpr_rf,label=\"Random Forest, auc={:.3f})\".format(auc_rf))\n",
        "plt.plot([0, 1], [0, 1], 'k--')\n",
        "plt.xlabel('False positive rate')\n",
        "plt.ylabel('True positive rate')\n",
        "plt.title('Random Forest ROC curve')\n",
        "plt.legend(loc=4)\n",
        "plt.show()"
      ]
    },
    {
      "cell_type": "code",
      "execution_count": null,
      "metadata": {
        "id": "XGynJLJsiebq",
        "outputId": "7cc788b2-0eb7-43bb-b786-51e7b3140e81"
      },
      "outputs": [
        {
          "data": {
            "image/png": "[encoded data removed]",
            "text/plain": [
              "<Figure size 432x288 with 1 Axes>"
            ]
          },
          "metadata": {
            "needs_background": "light"
          },
          "output_type": "display_data"
        }
      ],
      "source": [
        "rf_precision, rf_recall, _ = precision_recall_curve(y_test, y_pred_rf_proba)\n",
        "no_skill = len(y_test[y_test==1]) / len(y_test)\n",
        "plt.plot([0, 1], [no_skill, no_skill], linestyle='--', color='black', label='No Skill')\n",
        "plt.plot(rf_recall, rf_precision, color='orange', label='RF')\n",
        "plt.xlabel('Recall')\n",
        "plt.ylabel('Precision')\n",
        "plt.title('Precision-Recall curve')\n",
        "plt.legend()\n",
        "plt.show()"
      ]
    },
    {
      "cell_type": "markdown",
      "metadata": {
        "id": "eHpgG8tpiebq"
      },
      "source": [
        "Classification metrics for Random Forest (rounded down) :\n",
        "- Accuracy : 0.95\n",
        "- F1 score : 0.93\n",
        "- AUC : 0.97"
      ]
    },
    {
      "cell_type": "markdown",
      "metadata": {
        "id": "I511MjBYiebq"
      },
      "source": [
        "# 4. Ensemble learning : Boosting (XGBoost)"
      ]
    },
    {
      "cell_type": "markdown",
      "metadata": {
        "id": "Gothxrooiebq"
      },
      "source": [
        "### <center> How XGBoost works :</center>\n",
        "\n",
        "![](https://d1rwhvwstyk9gu.cloudfront.net/2020/02/XG-Boost-FINAL-01.png)\n",
        "\n",
        "The sequential ensemble methods, also known as “boosting”, creates a sequence of models that attempt to correct the mistakes of the models before them in the sequence. The first model is built on training data, the second model improves the first model, the third model improves the second, and so on. "
      ]
    },
    {
      "cell_type": "code",
      "execution_count": null,
      "metadata": {
        "id": "xP9TT3fEiebr",
        "outputId": "76072814-0887-4c75-c4a5-6bacd011e8bb"
      },
      "outputs": [
        {
          "name": "stdout",
          "output_type": "stream",
          "text": [
            "[14:14:34] WARNING: ../src/learner.cc:1061: Starting in XGBoost 1.3.0, the default evaluation metric used with the objective 'binary:logistic' was changed from 'error' to 'logloss'. Explicitly set eval_metric if you'd like to restore the old behavior.\n"
          ]
        }
      ],
      "source": [
        "#train the model\n",
        "model4 = XGBClassifier(random_state=2)\n",
        "xgb = model4.fit(X_train, y_train)"
      ]
    },
    {
      "cell_type": "code",
      "execution_count": null,
      "metadata": {
        "id": "Y5zeC8utiebr"
      },
      "outputs": [],
      "source": [
        "#predictions\n",
        "y_pred_xgb = model4.predict(X_test) "
      ]
    },
    {
      "cell_type": "code",
      "execution_count": null,
      "metadata": {
        "id": "Wk8RU0Lyiebr",
        "outputId": "5ce352ed-4671-48fa-a399-198dc1715d99"
      },
      "outputs": [
        {
          "name": "stdout",
          "output_type": "stream",
          "text": [
            "Accuracy XGB: 0.9459459459459459\n",
            "Precision XGB: 0.96\n",
            "Recall XGB: 0.8888888888888888\n",
            "F1 Score XGB: 0.923076923076923\n"
          ]
        }
      ],
      "source": [
        "#scores\n",
        "print(\"Accuracy XGB:\",metrics.accuracy_score(y_test, y_pred_xgb))\n",
        "print(\"Precision XGB:\",metrics.precision_score(y_test, y_pred_xgb))\n",
        "print(\"Recall XGB:\",metrics.recall_score(y_test, y_pred_xgb))\n",
        "print(\"F1 Score XGB:\",metrics.f1_score(y_test, y_pred_xgb))"
      ]
    },
    {
      "cell_type": "code",
      "execution_count": null,
      "metadata": {
        "id": "VUxbd-79iebr",
        "outputId": "9f1975fe-e6af-48a6-9e37-22a33438e759"
      },
      "outputs": [
        {
          "data": {
            "image/png": "[encoded data removed]",
            "text/plain": [
              "<Figure size 432x288 with 1 Axes>"
            ]
          },
          "metadata": {
            "needs_background": "light"
          },
          "output_type": "display_data"
        }
      ],
      "source": [
        "#CM matrix\n",
        "matrix_xgb = confusion_matrix(y_test, y_pred_xgb)\n",
        "cm_xgb = pd.DataFrame(matrix_xgb, index=['not_fraud', 'fraud'], columns=['not_fraud', 'fraud'])\n",
        "\n",
        "sns.heatmap(cm_xgb, annot=True, cbar=None, cmap=\"Blues\", fmt = 'g')\n",
        "plt.title(\"Confusion Matrix XGBoost\"), plt.tight_layout()\n",
        "plt.ylabel(\"True Class\"), plt.xlabel(\"Predicted Class\")\n",
        "plt.show()"
      ]
    },
    {
      "cell_type": "code",
      "execution_count": null,
      "metadata": {
        "id": "iC68-JJNiebs",
        "outputId": "b68a3580-7e3c-4bf2-8f3a-c9cc74f8a0f4"
      },
      "outputs": [
        {
          "name": "stdout",
          "output_type": "stream",
          "text": [
            "AUC XGBoost : 0.9766055949566588\n"
          ]
        }
      ],
      "source": [
        "#AUC\n",
        "y_pred_xgb_proba = model4.predict_proba(X_test)[::,1]\n",
        "fpr_xgb, tpr_xgb, _ = metrics.roc_curve(y_test,  y_pred_xgb_proba)\n",
        "auc_xgb = metrics.roc_auc_score(y_test, y_pred_xgb_proba)\n",
        "print(\"AUC XGBoost :\", auc_xgb)"
      ]
    },
    {
      "cell_type": "code",
      "execution_count": null,
      "metadata": {
        "id": "_bggqOeMiebs",
        "outputId": "30d59ffc-fc30-4785-81f7-998ad83fa415"
      },
      "outputs": [
        {
          "data": {
            "image/png": "[encoded data removed]",
            "text/plain": [
              "<Figure size 432x288 with 1 Axes>"
            ]
          },
          "metadata": {
            "needs_background": "light"
          },
          "output_type": "display_data"
        }
      ],
      "source": [
        "#ROC\n",
        "plt.plot(fpr_xgb,tpr_xgb,label=\"XGBoost, auc={:.3f})\".format(auc_xgb))\n",
        "plt.plot([0, 1], [0, 1], 'k--')\n",
        "plt.xlabel('False positive rate')\n",
        "plt.ylabel('True positive rate')\n",
        "plt.title('XGBoost ROC curve')\n",
        "plt.legend(loc=4)\n",
        "plt.show()"
      ]
    },
    {
      "cell_type": "code",
      "execution_count": null,
      "metadata": {
        "id": "77qOmdBFiebs",
        "outputId": "3ae0ebb3-41d1-4b2c-fec8-ff8641e1428f"
      },
      "outputs": [
        {
          "data": {
            "image/png": "[encoded data removed]",
            "text/plain": [
              "<Figure size 432x288 with 1 Axes>"
            ]
          },
          "metadata": {
            "needs_background": "light"
          },
          "output_type": "display_data"
        }
      ],
      "source": [
        "xgb_precision, xgb_recall, _ = precision_recall_curve(y_test, y_pred_xgb_proba)\n",
        "no_skill = len(y_test[y_test==1]) / len(y_test)\n",
        "plt.plot([0, 1], [no_skill, no_skill], linestyle='--', color='black', label='No Skill')\n",
        "plt.plot(xgb_recall, xgb_precision, color='orange', label='XGB')\n",
        "plt.xlabel('Recall')\n",
        "plt.ylabel('Precision')\n",
        "plt.title('Precision-Recall curve')\n",
        "plt.legend()\n",
        "plt.show()"
      ]
    },
    {
      "cell_type": "markdown",
      "metadata": {
        "id": "TvYr1p1Jiebs"
      },
      "source": [
        "Classification metrics for XGBoost (rounded down) :\n",
        "- Accuracy : 0.95\n",
        "- F1 score : 0.93\n",
        "- AUC : 0.97"
      ]
    },
    {
      "cell_type": "markdown",
      "metadata": {
        "id": "Or5-E-bBiebt"
      },
      "source": [
        "# 5. Multi Layer Perceptron"
      ]
    },
    {
      "cell_type": "markdown",
      "metadata": {
        "id": "2dfWEraFiebt"
      },
      "source": [
        "### <center> How Neural network works : </center>\n",
        "\n",
        "<center><img src= \"https://victorzhou.com/27cf280166d7159c0465a58c68f99b39/network3.svg\">\n",
        "\n",
        "The layers of a neural network are made of nodes. \n",
        "A node combines input from the data with a set of coefficients and bias, that either amplify or dampen that input, thereby assigning significance to inputs with regard to the task the algorithm is trying to learn. These input-weight products are summed and then the sum is passed through a node’s so-called activation function, to determine whether and to what extent that signal should progress further through the network to affect the ultimate outcome, say, an act of classification. If the signals passes through, the neuron has been “activated.”"
      ]
    },
    {
      "cell_type": "code",
      "execution_count": null,
      "metadata": {
        "id": "vjND93WGiebt"
      },
      "outputs": [],
      "source": [
        "#train the model\n",
        "model5 = MLPClassifier(solver='lbfgs', hidden_layer_sizes=(100,100), random_state=2)\n",
        "mlp = model5.fit(X_train, y_train)"
      ]
    },
    {
      "cell_type": "code",
      "execution_count": null,
      "metadata": {
        "id": "3KKI4SuYiebt",
        "outputId": "1da94e6c-abbb-4f59-9f5c-aa50ccf98378"
      },
      "outputs": [
        {
          "data": {
            "text/plain": [
              "{'activation': 'relu',\n",
              " 'alpha': 0.0001,\n",
              " 'batch_size': 'auto',\n",
              " 'beta_1': 0.9,\n",
              " 'beta_2': 0.999,\n",
              " 'early_stopping': False,\n",
              " 'epsilon': 1e-08,\n",
              " 'hidden_layer_sizes': (100, 100),\n",
              " 'learning_rate': 'constant',\n",
              " 'learning_rate_init': 0.001,\n",
              " 'max_fun': 15000,\n",
              " 'max_iter': 200,\n",
              " 'momentum': 0.9,\n",
              " 'n_iter_no_change': 10,\n",
              " 'nesterovs_momentum': True,\n",
              " 'power_t': 0.5,\n",
              " 'random_state': 2,\n",
              " 'shuffle': True,\n",
              " 'solver': 'lbfgs',\n",
              " 'tol': 0.0001,\n",
              " 'validation_fraction': 0.1,\n",
              " 'verbose': False,\n",
              " 'warm_start': False}"
            ]
          },
          "execution_count": 23,
          "metadata": {},
          "output_type": "execute_result"
        }
      ],
      "source": [
        "model5.get_params(deep=True)"
      ]
    },
    {
      "cell_type": "code",
      "execution_count": null,
      "metadata": {
        "id": "_ASot66Aiebt"
      },
      "outputs": [],
      "source": [
        "#predictions\n",
        "y_pred_mlp = model5.predict(X_test)"
      ]
    },
    {
      "cell_type": "code",
      "execution_count": null,
      "metadata": {
        "id": "WGl4FDf3iebt",
        "outputId": "434f8a7b-c705-4669-cf1a-f14feceba81f"
      },
      "outputs": [
        {
          "name": "stdout",
          "output_type": "stream",
          "text": [
            "Accuracy MLP: 0.9527027027027027\n",
            "Precision MLP: 0.9433962264150944\n",
            "Recall MLP: 0.9259259259259259\n",
            "F1 Score MLP: 0.9345794392523364\n"
          ]
        }
      ],
      "source": [
        "#scores\n",
        "print(\"Accuracy MLP:\",metrics.accuracy_score(y_test, y_pred_mlp))\n",
        "print(\"Precision MLP:\",metrics.precision_score(y_test, y_pred_mlp))\n",
        "print(\"Recall MLP:\",metrics.recall_score(y_test, y_pred_mlp))\n",
        "print(\"F1 Score MLP:\",metrics.f1_score(y_test, y_pred_mlp))"
      ]
    },
    {
      "cell_type": "code",
      "execution_count": null,
      "metadata": {
        "id": "4XSxmGRAiebu",
        "outputId": "28f0eff6-b647-4c6e-bc68-64997416811a"
      },
      "outputs": [
        {
          "data": {
            "image/png": "[encoded data removed]",
            "text/plain": [
              "<Figure size 432x288 with 1 Axes>"
            ]
          },
          "metadata": {
            "needs_background": "light"
          },
          "output_type": "display_data"
        }
      ],
      "source": [
        "#CM matrix\n",
        "matrix_mlp = confusion_matrix(y_test, y_pred_mlp)\n",
        "cm_mlp = pd.DataFrame(matrix_mlp, index=['not_fraud', 'fraud'], columns=['not_fraud', 'fraud'])\n",
        "\n",
        "sns.heatmap(cm_mlp, annot=True, cbar=None, cmap=\"Blues\", fmt = 'g')\n",
        "plt.title(\"Confusion Matrix MLP\"), plt.tight_layout()\n",
        "plt.ylabel(\"True Class\"), plt.xlabel(\"Predicted Class\")\n",
        "plt.show()"
      ]
    },
    {
      "cell_type": "code",
      "execution_count": null,
      "metadata": {
        "id": "fPLPz5LGiebu",
        "outputId": "5e8316d8-275a-4ff7-eef8-a22f9f77bca4"
      },
      "outputs": [
        {
          "name": "stdout",
          "output_type": "stream",
          "text": [
            "AUC MLP : 0.9789696611505121\n"
          ]
        }
      ],
      "source": [
        "#AUC\n",
        "y_pred_mlp_proba = model5.predict_proba(X_test)[::,1]\n",
        "fpr_mlp, tpr_mlp, _ = metrics.roc_curve(y_test,  y_pred_mlp_proba)\n",
        "auc_mlp = metrics.roc_auc_score(y_test, y_pred_mlp_proba)\n",
        "print(\"AUC MLP :\", auc_mlp)"
      ]
    },
    {
      "cell_type": "code",
      "execution_count": null,
      "metadata": {
        "id": "jdVt-dswiebu",
        "outputId": "032ae24b-0094-43b4-b522-905f0eb2fdba"
      },
      "outputs": [
        {
          "data": {
            "image/png": "[encoded data removed]",
            "text/plain": [
              "<Figure size 432x288 with 1 Axes>"
            ]
          },
          "metadata": {
            "needs_background": "light"
          },
          "output_type": "display_data"
        }
      ],
      "source": [
        "#ROC\n",
        "plt.plot(fpr_mlp,tpr_mlp,label=\"MLPC, auc={:.3f})\".format(auc_mlp))\n",
        "plt.plot([0, 1], [0, 1], 'k--')\n",
        "plt.xlabel('False positive rate')\n",
        "plt.ylabel('True positive rate')\n",
        "plt.title('Multilayer Perceptron ROC curve')\n",
        "plt.legend(loc=4)\n",
        "plt.show()"
      ]
    },
    {
      "cell_type": "code",
      "execution_count": null,
      "metadata": {
        "id": "6Tuhi_U9iebu",
        "outputId": "04274daa-bd3b-47d5-e950-9070eebcebe4"
      },
      "outputs": [
        {
          "data": {
            "image/png": "[encoded data removed]",
            "text/plain": [
              "<Figure size 432x288 with 1 Axes>"
            ]
          },
          "metadata": {
            "needs_background": "light"
          },
          "output_type": "display_data"
        }
      ],
      "source": [
        "mlp_precision, mlp_recall, _ = precision_recall_curve(y_test, y_pred_mlp_proba)\n",
        "no_skill = len(y_test[y_test==1]) / len(y_test)\n",
        "plt.plot([0, 1], [no_skill, no_skill], linestyle='--', color='black', label='No Skill')\n",
        "plt.plot(mlp_recall, mlp_precision, color='orange', label='MLP')\n",
        "plt.xlabel('Recall')\n",
        "plt.ylabel('Precision')\n",
        "plt.title('Precision-Recall curve')\n",
        "plt.legend()\n",
        "plt.show()"
      ]
    },
    {
      "cell_type": "markdown",
      "metadata": {
        "id": "vxrCVxzfiebv"
      },
      "source": [
        "Classification metrics for Multi Layer Perceptron (rounded down) :\n",
        "- Accuracy : 0.95\n",
        "- F1 score : 0.94\n",
        "- AUC : 0.98"
      ]
    },
    {
      "cell_type": "markdown",
      "metadata": {
        "id": "DyLWUbYUiebv"
      },
      "source": [
        "# 6. Multilayer Neural Network with Tensorflow/Keras"
      ]
    },
    {
      "cell_type": "code",
      "execution_count": null,
      "metadata": {
        "id": "CqpJ4wQRiebv"
      },
      "outputs": [],
      "source": [
        "#train the model\n",
        "model = Sequential()\n",
        "model.add(Dense(32, input_shape=(29,), activation='relu')),\n",
        "model.add(Dropout(0.2)),\n",
        "model.add(Dense(16, activation='relu')),\n",
        "model.add(Dropout(0.2)),\n",
        "model.add(Dense(8, activation='relu')),\n",
        "model.add(Dropout(0.2)),\n",
        "model.add(Dense(4, activation='relu')),\n",
        "model.add(Dropout(0.2)),\n",
        "model.add(Dense(1, activation='sigmoid'))"
      ]
    },
    {
      "cell_type": "code",
      "execution_count": null,
      "metadata": {
        "id": "bCRz6_RWiebv"
      },
      "outputs": [],
      "source": [
        "opt = tf.keras.optimizers.Adam(learning_rate=0.001) #optimizer\n",
        "\n",
        "model.compile(optimizer=opt, loss=tf.keras.losses.BinaryCrossentropy(), metrics=['accuracy']) #metrics"
      ]
    },
    {
      "cell_type": "code",
      "execution_count": null,
      "metadata": {
        "id": "IsMrebTqiebv"
      },
      "outputs": [],
      "source": [
        "earlystopper = tf.keras.callbacks.EarlyStopping(monitor='val_accuracy', min_delta=0, patience=15, verbose=1,mode='auto', baseline=None, restore_best_weights=False)"
      ]
    },
    {
      "cell_type": "code",
      "execution_count": null,
      "metadata": {
        "id": "tTtJfX2Biebv"
      },
      "outputs": [],
      "source": [
        "history = model.fit(X_train.values, y_train.values, epochs = 6, batch_size=5, validation_split = 0.15, verbose = 0,\n",
        "                    callbacks = [earlystopper])\n",
        "history_dict = history.history"
      ]
    },
    {
      "cell_type": "code",
      "execution_count": null,
      "metadata": {
        "id": "dNkQkTueiebw"
      },
      "outputs": [],
      "source": [
        "loss_values = history_dict['loss']\n",
        "val_loss_values=history_dict['val_loss']\n",
        "plt.plot(loss_values,'b',label='training loss')\n",
        "plt.plot(val_loss_values,'r',label='val training loss')\n",
        "plt.legend()\n",
        "plt.xlabel(\"Epochs\")"
      ]
    },
    {
      "cell_type": "code",
      "execution_count": null,
      "metadata": {
        "id": "8Z20Gyqsiebw",
        "outputId": "0f4e0c65-fe78-4fd1-ed9c-c248ddd0f458"
      },
      "outputs": [
        {
          "data": {
            "text/plain": [
              "Text(0.5, 0, 'Epochs')"
            ]
          },
          "execution_count": 111,
          "metadata": {},
          "output_type": "execute_result"
        },
        {
          "data": {
            "image/png": "[encoded data removed]",
            "text/plain": [
              "<Figure size 432x288 with 1 Axes>"
            ]
          },
          "metadata": {
            "needs_background": "light"
          },
          "output_type": "display_data"
        }
      ],
      "source": [
        "accuracy_values = history_dict['accuracy']\n",
        "val_accuracy_values=history_dict['val_accuracy']\n",
        "plt.plot(val_accuracy_values,'-r',label='val_accuracy')\n",
        "plt.plot(accuracy_values,'-b',label='accuracy')\n",
        "plt.legend()\n",
        "plt.xlabel(\"Epochs\")"
      ]
    },
    {
      "cell_type": "code",
      "execution_count": null,
      "metadata": {
        "id": "LkCQl13Ziebw"
      },
      "outputs": [],
      "source": [
        "#predictions\n",
        "#y_pred_nn = model.predict_classes(X_test)\n",
        "y_pred_nn = (model.predict(X_test) > 0.5).astype(\"int32\")"
      ]
    },
    {
      "cell_type": "code",
      "execution_count": null,
      "metadata": {
        "id": "bAEZbJsOiebw",
        "outputId": "637e0001-b30b-4716-9175-3a10985e83b0"
      },
      "outputs": [
        {
          "name": "stdout",
          "output_type": "stream",
          "text": [
            "Accuracy Neural Net: 0.956081081081081\n",
            "Precision Neural Net: 0.9702970297029703\n",
            "Recall Neural Net: 0.9074074074074074\n",
            "F1 Score Neural Net: 0.937799043062201\n"
          ]
        }
      ],
      "source": [
        "#scores\n",
        "print(\"Accuracy Neural Net:\",metrics.accuracy_score(y_test, y_pred_nn))\n",
        "print(\"Precision Neural Net:\",metrics.precision_score(y_test, y_pred_nn))\n",
        "print(\"Recall Neural Net:\",metrics.recall_score(y_test, y_pred_nn))\n",
        "print(\"F1 Score Neural Net:\",metrics.f1_score(y_test, y_pred_nn))"
      ]
    },
    {
      "cell_type": "code",
      "execution_count": null,
      "metadata": {
        "id": "PZ7OTNgfieby",
        "outputId": "f7bcb9ee-f47e-4482-d268-ec6628692df5"
      },
      "outputs": [
        {
          "data": {
            "image/png": "[encoded data removed]",
            "text/plain": [
              "<Figure size 432x288 with 1 Axes>"
            ]
          },
          "metadata": {
            "needs_background": "light"
          },
          "output_type": "display_data"
        }
      ],
      "source": [
        "#CM matrix\n",
        "matrix_nn = confusion_matrix(y_test, y_pred_nn)\n",
        "cm_nn = pd.DataFrame(matrix_nn, index=['not_fraud', 'fraud'], columns=['not_fraud', 'fraud'])\n",
        "\n",
        "sns.heatmap(cm_nn, annot=True, cbar=None, cmap=\"Blues\", fmt = 'g')\n",
        "plt.title(\"Confusion Matrix Neural Network\"), plt.tight_layout()\n",
        "plt.ylabel(\"True Class\"), plt.xlabel(\"Predicted Class\")\n",
        "plt.show()"
      ]
    },
    {
      "cell_type": "code",
      "execution_count": null,
      "metadata": {
        "id": "aB-oUEpKieby",
        "outputId": "8668bddf-b341-476b-8d38-9e778b512dbc"
      },
      "outputs": [
        {
          "name": "stdout",
          "output_type": "stream",
          "text": [
            "AUC Neural Net:  0.9747832939322301\n"
          ]
        }
      ],
      "source": [
        "#AUC\n",
        "y_pred_nn_proba = model.predict(X_test)\n",
        "fpr_keras, tpr_keras, thresholds_keras = roc_curve(y_test,y_pred_nn_proba)\n",
        "auc_keras = auc(fpr_keras, tpr_keras)\n",
        "print('AUC Neural Net: ', auc_keras)"
      ]
    },
    {
      "cell_type": "code",
      "execution_count": null,
      "metadata": {
        "id": "yBugVtIhieby",
        "outputId": "9538ca34-a0c9-449a-9f18-c75780be9271"
      },
      "outputs": [
        {
          "data": {
            "image/png": "[encoded data removed]",
            "text/plain": [
              "<Figure size 432x288 with 1 Axes>"
            ]
          },
          "metadata": {
            "needs_background": "light"
          },
          "output_type": "display_data"
        }
      ],
      "source": [
        "#ROC\n",
        "plt.figure(1)\n",
        "plt.plot([0, 1], [0, 1], 'k--')\n",
        "plt.plot(fpr_keras, tpr_keras, label='Keras (area = {:.3f})'.format(auc_keras))\n",
        "plt.xlabel('False positive rate')\n",
        "plt.ylabel('True positive rate')\n",
        "plt.title('Neural Net ROC curve')\n",
        "plt.legend(loc='best')\n",
        "plt.show()"
      ]
    },
    {
      "cell_type": "code",
      "execution_count": null,
      "metadata": {
        "id": "0lnM7gr_iebz",
        "outputId": "9ff622d4-4891-473d-c68b-5c05e61f52a8"
      },
      "outputs": [
        {
          "data": {
            "image/png": "[encoded data removed]",
            "text/plain": [
              "<Figure size 432x288 with 1 Axes>"
            ]
          },
          "metadata": {
            "needs_background": "light"
          },
          "output_type": "display_data"
        }
      ],
      "source": [
        "nn_precision, nn_recall, _ = precision_recall_curve(y_test, y_pred_nn_proba)\n",
        "no_skill = len(y_test[y_test==1]) / len(y_test)\n",
        "plt.plot([0, 1], [no_skill, no_skill], linestyle='--', color='black', label='No Skill')\n",
        "plt.plot(nn_recall, nn_precision, color='orange', label='TF NN')\n",
        "plt.xlabel('Recall')\n",
        "plt.ylabel('Precision')\n",
        "plt.title('Precision-Recall curve')\n",
        "plt.legend()\n",
        "plt.show()"
      ]
    },
    {
      "cell_type": "markdown",
      "metadata": {
        "id": "OHxvxPUAiebz"
      },
      "source": [
        "Now let's visualize our multilayer network. \n",
        "\n",
        "The hidden layers are composed of an activation function called ReLU. It'is a piecewise linear function that will output the input directly if it is positive, otherwise, it will output zero. The last node has a sigmoid function that turns values to 0 or 1 (for binary classification)."
      ]
    },
    {
      "cell_type": "markdown",
      "metadata": {
        "id": "Swo00cgtiebz"
      },
      "source": [
        "![réseau final.png](attachment:d0166ebc-403f-4565-b302-6fdbe678d218.png)"
      ]
    },
    {
      "cell_type": "markdown",
      "metadata": {
        "id": "fOh_0N1iiebz"
      },
      "source": [
        "Classification metrics for Neural Network (rounded down) :\n",
        "- Accuracy : 0.95\n",
        "- F1 score : 0.94\n",
        "- AUC : 0.98"
      ]
    },
    {
      "cell_type": "markdown",
      "metadata": {
        "id": "6eCHWQt2iebz"
      },
      "source": [
        "# <center>And the winner is...</center>"
      ]
    },
    {
      "cell_type": "markdown",
      "metadata": {
        "id": "tkF0MO1sieb0"
      },
      "source": [
        "<center><img src= \"https://media.istockphoto.com/vectors/best-simple-champion-cup-winner-trophy-award-and-victory-vector-id1025281982?k=6&m=1025281982&s=612x612&w=0&h=Oos26qFlAJI7GG62Gs_k_aWRthTVJOsVKGx7AXVc6W8=\">\n",
        "\n",
        "# <center> Neural Network !!!</center>\n",
        "\n",
        "The multilayer neural network has the best performance according to our three most important classification metrics (Accuracy, F1-score and AUC). The Multi Layer Perceptron from sklearn is the one that minimizes the most the false negatives so I decided to keep this model to predict credit card frauds. It's very important that a bank do not miss frauds so minimizing false negatives rate is essential. \n",
        "\n",
        "All the models can be improved by tuning hyper-parameters. Please upvote this notebook if you want me to update it with model tuning ! "
      ]
    }
  ],
  "metadata": {
    "kernelspec": {
      "display_name": "Python 3",
      "language": "python",
      "name": "python3"
    },
    "language_info": {
      "codemirror_mode": {
        "name": "ipython",
        "version": 3
      },
      "file_extension": ".py",
      "mimetype": "text/x-python",
      "name": "python",
      "nbconvert_exporter": "python",
      "pygments_lexer": "ipython3",
      "version": "3.8.8"
    },
    "colab": {
      "name": "Copy.ipynb",
      "provenance": [],
      "include_colab_link": true
    }
  },
  "nbformat": 4,
  "nbformat_minor": 0
}